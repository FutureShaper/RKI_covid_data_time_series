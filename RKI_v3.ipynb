{
 "cells": [
  {
   "cell_type": "markdown",
   "id": "tested-strap",
   "metadata": {},
   "source": [
    "## Load data and plot cases"
   ]
  },
  {
   "cell_type": "code",
   "execution_count": 1,
   "id": "regulated-collar",
   "metadata": {},
   "outputs": [],
   "source": [
    "# load the libraries\n",
    "import numpy as np\n",
    "import pandas as pd\n",
    "import matplotlib.pyplot as plt\n",
    "%matplotlib inline\n",
    "import torch\n",
    "import torch.nn as nn"
   ]
  },
  {
   "cell_type": "code",
   "execution_count": 2,
   "id": "painted-inflation",
   "metadata": {},
   "outputs": [],
   "source": [
    "# src: https://npgeo-corona-npgeo-de.hub.arcgis.com/datasets/dd4580c810204019a7b8eb3e0b329dd6_0\n",
    "df = pd.read_csv(\"data/RKI.csv\",usecols=[\"Meldedatum\",\"AnzahlFall\"])"
   ]
  },
  {
   "cell_type": "code",
   "execution_count": 3,
   "id": "micro-brief",
   "metadata": {},
   "outputs": [
    {
     "data": {
      "text/html": [
       "<div>\n",
       "<style scoped>\n",
       "    .dataframe tbody tr th:only-of-type {\n",
       "        vertical-align: middle;\n",
       "    }\n",
       "\n",
       "    .dataframe tbody tr th {\n",
       "        vertical-align: top;\n",
       "    }\n",
       "\n",
       "    .dataframe thead th {\n",
       "        text-align: right;\n",
       "    }\n",
       "</style>\n",
       "<table border=\"1\" class=\"dataframe\">\n",
       "  <thead>\n",
       "    <tr style=\"text-align: right;\">\n",
       "      <th></th>\n",
       "      <th>AnzahlFall</th>\n",
       "      <th>Meldedatum</th>\n",
       "    </tr>\n",
       "  </thead>\n",
       "  <tbody>\n",
       "    <tr>\n",
       "      <th>1102950</th>\n",
       "      <td>2</td>\n",
       "      <td>2021/01/20 00:00:00+00</td>\n",
       "    </tr>\n",
       "    <tr>\n",
       "      <th>1102951</th>\n",
       "      <td>4</td>\n",
       "      <td>2021/01/21 00:00:00+00</td>\n",
       "    </tr>\n",
       "    <tr>\n",
       "      <th>1102952</th>\n",
       "      <td>5</td>\n",
       "      <td>2021/01/22 00:00:00+00</td>\n",
       "    </tr>\n",
       "    <tr>\n",
       "      <th>1102953</th>\n",
       "      <td>6</td>\n",
       "      <td>2021/01/23 00:00:00+00</td>\n",
       "    </tr>\n",
       "    <tr>\n",
       "      <th>1102954</th>\n",
       "      <td>3</td>\n",
       "      <td>2021/01/24 00:00:00+00</td>\n",
       "    </tr>\n",
       "  </tbody>\n",
       "</table>\n",
       "</div>"
      ],
      "text/plain": [
       "         AnzahlFall              Meldedatum\n",
       "1102950           2  2021/01/20 00:00:00+00\n",
       "1102951           4  2021/01/21 00:00:00+00\n",
       "1102952           5  2021/01/22 00:00:00+00\n",
       "1102953           6  2021/01/23 00:00:00+00\n",
       "1102954           3  2021/01/24 00:00:00+00"
      ]
     },
     "execution_count": 3,
     "metadata": {},
     "output_type": "execute_result"
    }
   ],
   "source": [
    "df.tail()"
   ]
  },
  {
   "cell_type": "code",
   "execution_count": 4,
   "id": "historical-electronics",
   "metadata": {},
   "outputs": [
    {
     "data": {
      "text/plain": [
       "AnzahlFall     int64\n",
       "Meldedatum    object\n",
       "dtype: object"
      ]
     },
     "execution_count": 4,
     "metadata": {},
     "output_type": "execute_result"
    }
   ],
   "source": [
    "df.dtypes"
   ]
  },
  {
   "cell_type": "code",
   "execution_count": 5,
   "id": "romantic-tumor",
   "metadata": {},
   "outputs": [],
   "source": [
    "df[\"Meldedatum\"] = df[\"Meldedatum\"].str.extract(r'^(\\d\\d\\d\\d\\/\\d\\d\\/\\d\\d).*$')"
   ]
  },
  {
   "cell_type": "code",
   "execution_count": 6,
   "id": "timely-federation",
   "metadata": {},
   "outputs": [
    {
     "data": {
      "text/html": [
       "<div>\n",
       "<style scoped>\n",
       "    .dataframe tbody tr th:only-of-type {\n",
       "        vertical-align: middle;\n",
       "    }\n",
       "\n",
       "    .dataframe tbody tr th {\n",
       "        vertical-align: top;\n",
       "    }\n",
       "\n",
       "    .dataframe thead th {\n",
       "        text-align: right;\n",
       "    }\n",
       "</style>\n",
       "<table border=\"1\" class=\"dataframe\">\n",
       "  <thead>\n",
       "    <tr style=\"text-align: right;\">\n",
       "      <th></th>\n",
       "      <th>AnzahlFall</th>\n",
       "      <th>Meldedatum</th>\n",
       "    </tr>\n",
       "  </thead>\n",
       "  <tbody>\n",
       "    <tr>\n",
       "      <th>1102950</th>\n",
       "      <td>2</td>\n",
       "      <td>2021/01/20</td>\n",
       "    </tr>\n",
       "    <tr>\n",
       "      <th>1102951</th>\n",
       "      <td>4</td>\n",
       "      <td>2021/01/21</td>\n",
       "    </tr>\n",
       "    <tr>\n",
       "      <th>1102952</th>\n",
       "      <td>5</td>\n",
       "      <td>2021/01/22</td>\n",
       "    </tr>\n",
       "    <tr>\n",
       "      <th>1102953</th>\n",
       "      <td>6</td>\n",
       "      <td>2021/01/23</td>\n",
       "    </tr>\n",
       "    <tr>\n",
       "      <th>1102954</th>\n",
       "      <td>3</td>\n",
       "      <td>2021/01/24</td>\n",
       "    </tr>\n",
       "  </tbody>\n",
       "</table>\n",
       "</div>"
      ],
      "text/plain": [
       "         AnzahlFall  Meldedatum\n",
       "1102950           2  2021/01/20\n",
       "1102951           4  2021/01/21\n",
       "1102952           5  2021/01/22\n",
       "1102953           6  2021/01/23\n",
       "1102954           3  2021/01/24"
      ]
     },
     "execution_count": 6,
     "metadata": {},
     "output_type": "execute_result"
    }
   ],
   "source": [
    "df.tail()"
   ]
  },
  {
   "cell_type": "code",
   "execution_count": 7,
   "id": "amateur-experience",
   "metadata": {},
   "outputs": [],
   "source": [
    "df[\"Meldedatum\"] = pd.to_datetime(df[\"Meldedatum\"])"
   ]
  },
  {
   "cell_type": "code",
   "execution_count": 8,
   "id": "working-accuracy",
   "metadata": {},
   "outputs": [
    {
     "data": {
      "text/plain": [
       "AnzahlFall             int64\n",
       "Meldedatum    datetime64[ns]\n",
       "dtype: object"
      ]
     },
     "execution_count": 8,
     "metadata": {},
     "output_type": "execute_result"
    }
   ],
   "source": [
    "df.dtypes"
   ]
  },
  {
   "cell_type": "code",
   "execution_count": 9,
   "id": "supreme-wichita",
   "metadata": {},
   "outputs": [
    {
     "data": {
      "text/plain": [
       "DatetimeIndex(['2020-09-30', '2020-10-29', '2020-11-03', '2020-11-20',\n",
       "               '2020-11-23', '2020-12-18', '2021-01-06', '2021-01-08',\n",
       "               '2021-01-09', '2021-01-16',\n",
       "               ...\n",
       "               '2021-01-16', '2021-01-16', '2021-01-17', '2021-01-18',\n",
       "               '2021-01-19', '2021-01-20', '2021-01-21', '2021-01-22',\n",
       "               '2021-01-23', '2021-01-24'],\n",
       "              dtype='datetime64[ns]', name='Meldedatum', length=1102955, freq=None)"
      ]
     },
     "execution_count": 9,
     "metadata": {},
     "output_type": "execute_result"
    }
   ],
   "source": [
    "df.set_index(\"Meldedatum\", inplace=True)\n",
    "df.index"
   ]
  },
  {
   "cell_type": "code",
   "execution_count": 10,
   "id": "seventh-internship",
   "metadata": {
    "scrolled": true
   },
   "outputs": [
    {
     "data": {
      "text/plain": [
       "<AxesSubplot:xlabel='Meldedatum'>"
      ]
     },
     "execution_count": 10,
     "metadata": {},
     "output_type": "execute_result"
    },
    {
     "data": {
      "image/png": "[encoded data removed]",
      "text/plain": [
       "<Figure size 432x288 with 1 Axes>"
      ]
     },
     "metadata": {
      "needs_background": "light"
     },
     "output_type": "display_data"
    }
   ],
   "source": [
    "df.groupby([\"Meldedatum\"]).AnzahlFall.sum().plot()"
   ]
  },
  {
   "cell_type": "markdown",
   "id": "brown-chapter",
   "metadata": {},
   "source": [
    "## Preprocessing the Dataset for Time Series Analysis\n",
    "src: \n",
    "https://github.com/abhiupes01/Multi_Step_Time_Series/blob/master/RNN_flight_passanger.ipynb"
   ]
  },
  {
   "cell_type": "code",
   "execution_count": null,
   "id": "general-provision",
   "metadata": {},
   "outputs": [],
   "source": [
    "# remove last 7 days - they are anyway unreliable\n",
    "df = df[df[\"Meldedatum\"] < df['Meldedatum'].max() - timedelta(days=7)]"
   ]
  },
  {
   "cell_type": "code",
   "execution_count": null,
   "id": "departmental-popularity",
   "metadata": {},
   "outputs": [],
   "source": [
    "test_cutoff_date = df['Meldedatum'].max() - timedelta(days=28)\n",
    "test_cutoff_date"
   ]
  },
  {
   "cell_type": "code",
   "execution_count": null,
   "id": "silver-recipient",
   "metadata": {},
   "outputs": [],
   "source": [
    "val_cutoff_date = test_cutoff_date - timedelta(days=28)\n",
    "val_cutoff_date"
   ]
  },
  {
   "cell_type": "code",
   "execution_count": null,
   "id": "collected-catalyst",
   "metadata": {},
   "outputs": [],
   "source": [
    "df_test = df[df['Meldedatum'] > test_cutoff_date]\n",
    "df_val = df[(df['Meldedatum'] > val_cutoff_date) & (df['Meldedatum'] <= test_cutoff_date)]\n",
    "df_train = df[df['Meldedatum'] <= val_cutoff_date]\n",
    "\n",
    "#check out the datasets\n",
    "print('Test dates: {} to {}'.format(df_test['Meldedatum'].min(), df_test['Meldedatum'].max()))\n",
    "print('Validation dates: {} to {}'.format(df_val['Meldedatum'].min(), df_val['Meldedatum'].max()))\n",
    "print('Train dates: {} to {}'.format(df_train['Meldedatum'].min(), df_train['Meldedatum'].max()))\n"
   ]
  },
  {
   "cell_type": "markdown",
   "id": "bigger-fancy",
   "metadata": {},
   "source": [
    "## Transforming the Dataset for TensorFlow Keras"
   ]
  },
  {
   "cell_type": "code",
   "execution_count": null,
   "id": "green-boards",
   "metadata": {},
   "outputs": [],
   "source": [
    "complete = df['AnzahlFall'].values\n",
    "train = df_train['AnzahlFall'].values\n",
    "test = df_test['AnzahlFall'].values\n",
    "val = df_val['AnzahlFall'].values\n",
    "\n",
    "\n",
    "# Scaled to work with Neural networks.\n",
    "scaler = MinMaxScaler(feature_range=(0, 1))\n",
    "complete_scaled = scaler.fit_transform(complete.reshape(-1, 1)).reshape(-1, )\n",
    "train_scaled = scaler.transform(train.reshape(-1, 1)).reshape(-1, )\n",
    "test_scaled = scaler.transform(test.reshape(-1, 1)).reshape(-1, )\n",
    "val_scaled = scaler.transform(val.reshape(-1, 1)).reshape(-1, )"
   ]
  },
  {
   "cell_type": "code",
   "execution_count": null,
   "id": "toxic-banking",
   "metadata": {},
   "outputs": [],
   "source": [
    "import matplotlib.pyplot as plt\n",
    "plt.plot(train_scaled)\n",
    "plt.show()"
   ]
  },
  {
   "cell_type": "code",
   "execution_count": null,
   "id": "vital-syria",
   "metadata": {},
   "outputs": [],
   "source": [
    "from tensorflow import keras\n",
    "from tensorflow.keras import layers, Sequential\n",
    "\n",
    "input_days = 30\n",
    "output_days = 7\n",
    "# Create the Keras model.\n",
    "# Use hyperparameter optimization if you have the time.\n",
    "\n",
    "#ts_inputs = tf.keras.Input(shape=(num_timesteps, 1))\n",
    "# units=10 -> The cell and hidden states will be of dimension 10.\n",
    "#             The number of parameters that need to be trained = 4*units*(units+2)\n",
    "#x = layers.LSTM(units=10)(ts_inputs)\n",
    "#x = layers.Dropout(0.2)(x)\n",
    "#outputs = layers.Dense(1, activation='linear')(x)\n",
    "#model = tf.keras.Model(inputs=ts_inputs, outputs=outputs)\n",
    "\n",
    "\n",
    "\n",
    "\n",
    "\n",
    "#model = keras.Sequential()\n",
    "#model.add(layers.LSTM(\n",
    "#    input_shape=(input_days, 1),\n",
    "#    return_sequences=True, units=1))\n",
    "#model.add(layers.Dropout(0.2))\n",
    "#model.add(layers.LSTM(\n",
    "#    250,\n",
    "#    return_sequences=True))\n",
    "#model.add(layers.Dropout(0.2))\n",
    "#model.add(layers.TimeDistributed(layers.Dense(1)))\n",
    "#model.add(layers.Activation(\"linear\"))\n",
    "#model.compile(loss=\"mse\", optimizer=\"rmsprop\")\n",
    "\n",
    "# define model\n",
    "model = Sequential()\n",
    "model.add(layers.LSTM(100, activation='relu', return_sequences=True, input_shape=(input_days, 1)))\n",
    "model.add(layers.LSTM(100, activation='relu'))\n",
    "model.add(layers.Dense(output_days))\n",
    "model.compile(optimizer='adam', loss='mse')"
   ]
  },
  {
   "cell_type": "code",
   "execution_count": null,
   "id": "partial-protocol",
   "metadata": {},
   "outputs": [],
   "source": [
    "# Specify the training configuration.\n",
    "model.compile(optimizer=tf.keras.optimizers.SGD(learning_rate=0.01),\n",
    "              loss=tf.keras.losses.MeanSquaredError(),\n",
    "              metrics=['mse'])"
   ]
  },
  {
   "cell_type": "code",
   "execution_count": null,
   "id": "overall-component",
   "metadata": {},
   "outputs": [],
   "source": [
    "model.summary()"
   ]
  },
  {
   "cell_type": "code",
   "execution_count": null,
   "id": "discrete-obligation",
   "metadata": {},
   "outputs": [],
   "source": [
    "# sample batch\n",
    "batch_X = []\n",
    "batch_Y = []\n",
    "for y in range(0,1):\n",
    "    batch_X.append(np.expand_dims(train_scaled[i:i+14], axis=1))\n",
    "    batch_Y.append(train_scaled[i+14:i+(2*14)])\n",
    "    i+=14\n",
    "batch_X = np.array(batch_X)\n",
    "batch_Y = np.array(batch_Y)"
   ]
  },
  {
   "cell_type": "code",
   "execution_count": null,
   "id": "cleared-onion",
   "metadata": {},
   "outputs": [],
   "source": [
    "batch_X"
   ]
  },
  {
   "cell_type": "code",
   "execution_count": null,
   "id": "atomic-discharge",
   "metadata": {},
   "outputs": [],
   "source": [
    "batch_Y"
   ]
  },
  {
   "cell_type": "code",
   "execution_count": null,
   "id": "derived-factor",
   "metadata": {},
   "outputs": [],
   "source": [
    "# Training\n",
    "dataset = train_scaled\n",
    "start = 0\n",
    "end = len(dataset)\n",
    "batch_size = 1\n",
    "num_epochs = 100\n",
    "\n",
    "for e in range(0,num_epochs):\n",
    "    i = 0\n",
    "    # train epochs in batches:\n",
    "    while i+((input_days+output_days)*batch_size)<=end:\n",
    "        batch_X = []\n",
    "        batch_Y = []\n",
    "        for y in range(0,batch_size):\n",
    "            batch_X.append(np.expand_dims(dataset[i:i+input_days], axis=1))\n",
    "            batch_Y.append(dataset[i+output_days:i+(2*output_days)])\n",
    "            i+=input_days\n",
    "        batch_X = np.array(batch_X)\n",
    "        batch_Y = np.array(batch_Y)\n",
    "        model.fit(x=batch_X, y=batch_Y, batch_size=16)"
   ]
  },
  {
   "cell_type": "code",
   "execution_count": null,
   "id": "institutional-mother",
   "metadata": {},
   "outputs": [],
   "source": [
    "X = np.expand_dims(np.expand_dims(complete_scaled[0:14], axis=1),axis=0)\n",
    "np.squeeze(model.predict(X)[0])"
   ]
  },
  {
   "cell_type": "code",
   "execution_count": null,
   "id": "confirmed-grill",
   "metadata": {},
   "outputs": [],
   "source": [
    "start = 0\n",
    "end = len(complete_scaled)\n",
    "predictions = []\n",
    "\n",
    "i = 0\n",
    "# predict one epoch:\n",
    "while i+(input_days+output_days)<=end:\n",
    "    X = np.expand_dims(np.expand_dims(complete_scaled[i:i+input_days], axis=1),axis=0)\n",
    "    i+=output_days\n",
    "    predictions.extend(np.squeeze(model.predict(X)[0]))"
   ]
  },
  {
   "cell_type": "code",
   "execution_count": null,
   "id": "tired-variation",
   "metadata": {},
   "outputs": [],
   "source": [
    "len(predictions)"
   ]
  },
  {
   "cell_type": "code",
   "execution_count": null,
   "id": "indoor-building",
   "metadata": {},
   "outputs": [],
   "source": [
    "len(complete_scaled)-7"
   ]
  },
  {
   "cell_type": "code",
   "execution_count": null,
   "id": "studied-picnic",
   "metadata": {},
   "outputs": [],
   "source": [
    "plt.plot(complete_scaled[input_days:],label=\"truth\") # first seven days (0-6) were used as input for prediction\n",
    "plt.plot(predictions[0:],label=\"predicted\")\n",
    "plt.show()"
   ]
  },
  {
   "cell_type": "code",
   "execution_count": null,
   "id": "competitive-arnold",
   "metadata": {},
   "outputs": [],
   "source": [
    "# Let's test model with last 28 days (= test set)\n",
    "dataset = test_scaled\n",
    "start = 0\n",
    "end = len(dataset)\n",
    "input_days = 14\n",
    "\n",
    "i = 0\n",
    "while i+(input_days*batch_size)<=end:\n",
    "    batch_X = []\n",
    "    batch_Y = []\n",
    "    for y in range(0,batch_size):\n",
    "        batch_X.append(np.expand_dims(dataset[i:i+7], axis=1))\n",
    "        batch_Y.append(dataset[i+7])\n",
    "        i+=1\n",
    "batch_X = np.array(batch_X)\n",
    "batch_Y = np.array(batch_Y)\n",
    "    \n",
    "results = model.evaluate(batch_X, batch_Y, batch_size=batch_size)"
   ]
  },
  {
   "cell_type": "code",
   "execution_count": null,
   "id": "demonstrated-detroit",
   "metadata": {},
   "outputs": [],
   "source": [
    "dataset = test_scaled\n",
    "start = 0\n",
    "end = len(dataset)\n",
    "predictions = []\n",
    "input_days = 14\n",
    "\n",
    "i = 0\n",
    "# predict one epoch:\n",
    "while i+input_days<=end:\n",
    "    X = np.expand_dims(np.expand_dims(dataset[i:i+14], axis=1),axis=0)\n",
    "    i+=input_days\n",
    "    predictions.extend(np.squeeze(model.predict(X)[0]))"
   ]
  },
  {
   "cell_type": "code",
   "execution_count": null,
   "id": "paperback-password",
   "metadata": {},
   "outputs": [],
   "source": [
    "plt.plot(test_scaled[14:],label=\"truth\") # first seven days (0-6) were used as input for prediction\n",
    "plt.plot(predictions,label=\"predicted\")\n",
    "plt.show()"
   ]
  },
  {
   "cell_type": "code",
   "execution_count": null,
   "id": "roman-earth",
   "metadata": {},
   "outputs": [],
   "source": []
  }
 ],
 "metadata": {
  "kernelspec": {
   "display_name": "Python 3",
   "language": "python",
   "name": "python3"
  },
  "language_info": {
   "codemirror_mode": {
    "name": "ipython",
    "version": 3
   },
   "file_extension": ".py",
   "mimetype": "text/x-python",
   "name": "python",
   "nbconvert_exporter": "python",
   "pygments_lexer": "ipython3",
   "version": "3.7.0"
  }
 },
 "nbformat": 4,
 "nbformat_minor": 5
}
